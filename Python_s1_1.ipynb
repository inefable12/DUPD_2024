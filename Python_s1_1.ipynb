{
  "nbformat": 4,
  "nbformat_minor": 0,
  "metadata": {
    "colab": {
      "provenance": [],
      "toc_visible": true,
      "authorship_tag": "ABX9TyPSxVY1mrcevcdOzELS0HJf",
      "include_colab_link": true
    },
    "kernelspec": {
      "name": "python3",
      "display_name": "Python 3"
    },
    "language_info": {
      "name": "python"
    }
  },
  "cells": [
    {
      "cell_type": "markdown",
      "metadata": {
        "id": "view-in-github",
        "colab_type": "text"
      },
      "source": [
        "<a href=\"https://colab.research.google.com/github/inefable12/DUPD_2024/blob/main/Python_s1_1.ipynb\" target=\"_parent\"><img src=\"https://colab.research.google.com/assets/colab-badge.svg\" alt=\"Open In Colab\"/></a>"
      ]
    },
    {
      "cell_type": "markdown",
      "source": [
        "<img src=\"https://miro.medium.com/v2/resize:fit:1400/1*zomnCz8-VMgrSV8eLCx2tw.gif\" width=\"200\" alt=\"molecula\"  />\n",
        "\n",
        "$$\\Large \\textit{Cuadernos de Código de Python para Docentes Universitarios}$$\n",
        "\n",
        "---\n",
        "$$\\large\\textbf{Sesión 1: Introducción al Lenguaje de Programación Python | Parte I}$$\n",
        "\n",
        "---\n",
        "$$\\textit{Listas, Funciones, Scripts y Librerías}$$\n",
        "\n",
        "<br>\n",
        "<br>\n",
        "\n",
        "Autor: __Jesus Alvarado-Huayhuaz__"
      ],
      "metadata": {
        "id": "vdGG2FRuzsvq"
      }
    },
    {
      "cell_type": "markdown",
      "source": [
        "# 1. Listas"
      ],
      "metadata": {
        "id": "gt3ElgORoGZJ"
      }
    },
    {
      "cell_type": "markdown",
      "source": [
        "Exploremos operaciones con listas empleando los siguientes conjuntos"
      ],
      "metadata": {
        "id": "wiHwlW2R19iH"
      }
    },
    {
      "cell_type": "markdown",
      "source": [
        "<img src=\"https://aprendelibvrefiles.blob.core.windows.net/aprendelibvre-container/course/los_conjuntos/image/ejemplo1rp-01_xl.png\">"
      ],
      "metadata": {
        "id": "BW-yjlmlo-mi"
      }
    },
    {
      "cell_type": "code",
      "source": [
        "lista_M = [\"a\",\"b\",\"c\"]\n",
        "lista_N = [\"g\",\"l\",\"e\",\"b\"]\n",
        "lista_X = [\"f\",\"h\",\"i\",\"j\"]\n",
        "lista_U = [\"a\",\"b\",\"c\",\"g\",\"l\",\"e\",\"f\",\"h\",\"i\",\"j\"]"
      ],
      "metadata": {
        "id": "L_sZDRt_Zmr-"
      },
      "execution_count": null,
      "outputs": []
    },
    {
      "cell_type": "markdown",
      "source": [
        "Preguntemos si un elemento se encuentra en un conjunto:"
      ],
      "metadata": {
        "id": "idES22qXCOs7"
      }
    },
    {
      "cell_type": "code",
      "source": [
        "\"a\" in lista_M"
      ],
      "metadata": {
        "id": "wD_tLOrSDtb_"
      },
      "execution_count": null,
      "outputs": []
    },
    {
      "cell_type": "code",
      "source": [
        "\"a\" not in lista_M"
      ],
      "metadata": {
        "id": "j7k6TKQ5COLP"
      },
      "execution_count": null,
      "outputs": []
    },
    {
      "cell_type": "markdown",
      "source": [
        "Este es un tipo llamado Booleano, para saber el tipo de dato empleamos \"type\""
      ],
      "metadata": {
        "id": "Ro1QctzvCgKN"
      }
    },
    {
      "cell_type": "code",
      "source": [
        "type(\"a\" in lista_N)"
      ],
      "metadata": {
        "id": "k6LLXhsACb97"
      },
      "execution_count": null,
      "outputs": []
    },
    {
      "cell_type": "markdown",
      "source": [
        "¿Por qué el siguiente enunciado da error?"
      ],
      "metadata": {
        "id": "TRyeA_NxEG7A"
      }
    },
    {
      "cell_type": "code",
      "source": [
        "j in lista_N"
      ],
      "metadata": {
        "id": "FYvOR86PCZMo"
      },
      "execution_count": null,
      "outputs": []
    },
    {
      "cell_type": "code",
      "source": [
        "j = \"j\"\n",
        "\n",
        "j in lista_U"
      ],
      "metadata": {
        "id": "YIra0ee8EURM"
      },
      "execution_count": null,
      "outputs": []
    },
    {
      "cell_type": "markdown",
      "source": [
        "## 1.1 Unión de conjuntos: OR"
      ],
      "metadata": {
        "id": "8wFHdzU9oMJg"
      }
    },
    {
      "cell_type": "markdown",
      "source": [
        "<img src=\"https://aprendelibvrefiles.blob.core.windows.net/aprendelibvre-container/course/los_conjuntos/image/ejemplo2rp-02_xl.png\">"
      ],
      "metadata": {
        "id": "GRZTu0GnpKct"
      }
    },
    {
      "cell_type": "code",
      "source": [
        "M_OR_N = [a for a in lista_M if a in lista_N] + [a for a in lista_M if a not in lista_N] + [a for a in lista_N if a not in lista_M]\n",
        "M_OR_N"
      ],
      "metadata": {
        "id": "diFy6dQ2oDJs"
      },
      "execution_count": null,
      "outputs": []
    },
    {
      "cell_type": "markdown",
      "source": [
        "## 1.2 Intersección de conjuntos: AND"
      ],
      "metadata": {
        "id": "ZdLdXRiCpWff"
      }
    },
    {
      "cell_type": "markdown",
      "source": [
        "<img src=\"https://aprendelibvrefiles.blob.core.windows.net/aprendelibvre-container/course/los_conjuntos/image/ejemplo3rp-03_xl.png\">"
      ],
      "metadata": {
        "id": "PFG7Qzi3pWfh"
      }
    },
    {
      "cell_type": "code",
      "source": [
        "M_AND_N = [a for a in lista_M if a in lista_N]\n",
        "M_AND_N"
      ],
      "metadata": {
        "id": "fMzoGEnvZmoZ"
      },
      "execution_count": null,
      "outputs": []
    },
    {
      "cell_type": "markdown",
      "source": [
        "## 1.3 Diferencia de conjuntos: M\\N"
      ],
      "metadata": {
        "id": "4oPQpzWRp40w"
      }
    },
    {
      "cell_type": "markdown",
      "source": [
        "Son los elementos de un conjunto que no están en otro. Para el ejemplo: M\\N = {a,c}"
      ],
      "metadata": {
        "id": "zca6OszLuLBv"
      }
    },
    {
      "cell_type": "markdown",
      "source": [
        "<img src=\"https://aprendelibvrefiles.blob.core.windows.net/aprendelibvre-container/course/los_conjuntos/image/ejemplo4rp-04_xl.png\">"
      ],
      "metadata": {
        "id": "Gv4kOK4np40y"
      }
    },
    {
      "cell_type": "code",
      "source": [
        "M_menos_N = [a for a in lista_M if a not in lista_N]\n",
        "M_menos_N"
      ],
      "metadata": {
        "id": "YA5wHt4fp40y"
      },
      "execution_count": null,
      "outputs": []
    },
    {
      "cell_type": "markdown",
      "source": [
        "## 1.4 Diferencia simétrica de conjuntos: M \\delta N"
      ],
      "metadata": {
        "id": "ym9tIkURqsv-"
      }
    },
    {
      "cell_type": "markdown",
      "source": [
        "Son los elementos de M que no están en N, y los elementos de N que no están en M. Representamos la diferencia simétrica a través del símbolo Δ. Para el ejemplo el resultado es: MΔN = {a,c,g,l,e}"
      ],
      "metadata": {
        "id": "Qsxz_apDtV9g"
      }
    },
    {
      "cell_type": "markdown",
      "source": [
        "<img src=\"https://aprendelibvrefiles.blob.core.windows.net/aprendelibvre-container/course/los_conjuntos/image/ejemplo5rp-05_xl.png\">"
      ],
      "metadata": {
        "id": "3_gDUe8rqswR"
      }
    },
    {
      "cell_type": "code",
      "source": [
        "M_delta_N = [a for a in lista_M if a not in lista_N] + [a for a in lista_N if a not in lista_M]\n",
        "M_delta_N"
      ],
      "metadata": {
        "id": "HhSyQMubqswR"
      },
      "execution_count": null,
      "outputs": []
    },
    {
      "cell_type": "markdown",
      "source": [
        "## 1.5 Complemento de conjuntos: $M^c$"
      ],
      "metadata": {
        "id": "fxgyFm-VqswS"
      }
    },
    {
      "cell_type": "markdown",
      "source": [
        "El complemento de M es el conjunto conformado por todos los elementos del conjunto universal U, que no pertenecen al conjunto M."
      ],
      "metadata": {
        "id": "TmTYmivBugzu"
      }
    },
    {
      "cell_type": "markdown",
      "source": [
        "<img src=\"https://aprendelibvrefiles.blob.core.windows.net/aprendelibvre-container/course/los_conjuntos/image/ejemplo6rp-06-1_xl.png\">"
      ],
      "metadata": {
        "id": "lYyUMmo1qswS"
      }
    },
    {
      "cell_type": "code",
      "source": [
        "M_complemento = [a for a in lista_U if a not in lista_M]\n",
        "M_complemento"
      ],
      "metadata": {
        "id": "Dkxg059BqswS"
      },
      "execution_count": null,
      "outputs": []
    },
    {
      "cell_type": "markdown",
      "source": [
        "# 2. Funciones"
      ],
      "metadata": {
        "id": "_Yb____lmFUk"
      }
    },
    {
      "cell_type": "markdown",
      "source": [
        "Ahora vamos a facilitar el uso de estas operaciones mediante el llamado de funciones."
      ],
      "metadata": {
        "id": "AnDljU5ew4cN"
      }
    },
    {
      "cell_type": "markdown",
      "source": [
        "<img src=\"https://naps.com.mx/blog/wp-content/uploads/2020/06/Funciones-en-Python.-Estructura-de-una-funci%C3%B3n-768x576.png\">"
      ],
      "metadata": {
        "id": "FZBcIHVlxIVI"
      }
    },
    {
      "cell_type": "markdown",
      "source": [
        "## 2.1 Función Unión"
      ],
      "metadata": {
        "id": "eP1L--4qxc-X"
      }
    },
    {
      "cell_type": "code",
      "source": [
        "def union(entrada1, entrada2):\n",
        "  return [a for a in entrada1 if a in entrada2] + [a for a in entrada1 if a not in entrada2] + [a for a in entrada2 if a not in entrada1]"
      ],
      "metadata": {
        "id": "RPtGuev5plOO"
      },
      "execution_count": null,
      "outputs": []
    },
    {
      "cell_type": "markdown",
      "source": [
        "Apliquemos la unión de los conjuntos lista_M y lista_N"
      ],
      "metadata": {
        "id": "mkJYwTrgxgaP"
      }
    },
    {
      "cell_type": "code",
      "source": [
        "union(lista_M,lista_N)"
      ],
      "metadata": {
        "id": "nX_xj9Nuxmyy"
      },
      "execution_count": null,
      "outputs": []
    },
    {
      "cell_type": "markdown",
      "source": [
        "## 2.2 Función Intersección"
      ],
      "metadata": {
        "id": "FogECfHKyUrh"
      }
    },
    {
      "cell_type": "code",
      "source": [
        "def interseccion(entrada1, entrada2):\n",
        "  return [a for a in entrada1 if a in entrada2]"
      ],
      "metadata": {
        "id": "JldAcXhGmEGB"
      },
      "execution_count": null,
      "outputs": []
    },
    {
      "cell_type": "markdown",
      "source": [
        "Apliquemos la intersección de los conjuntos lista_M y lista_N"
      ],
      "metadata": {
        "id": "ap2wkmGJy16I"
      }
    },
    {
      "cell_type": "code",
      "source": [
        "interseccion(lista_M,lista_N)"
      ],
      "metadata": {
        "id": "wHEgR-qYmXPl"
      },
      "execution_count": null,
      "outputs": []
    },
    {
      "cell_type": "markdown",
      "source": [
        "## 2.3 Con Argumentos indeterminados"
      ],
      "metadata": {
        "id": "3sxnlsCB21R8"
      }
    },
    {
      "cell_type": "code",
      "source": [
        "# Función para sumar cualquier cantidad de números\n",
        "def sumarx(*args):\n",
        "\tresultado = 0\n",
        "\tfor valor in args:\n",
        "\t\tresultado = resultado + valor\n",
        "\treturn resultado"
      ],
      "metadata": {
        "id": "jL88jhud2exM"
      },
      "execution_count": null,
      "outputs": []
    },
    {
      "cell_type": "code",
      "source": [
        "sumarx(1,2,7,5,20)"
      ],
      "metadata": {
        "id": "0J9WlFFF3CFu"
      },
      "execution_count": null,
      "outputs": []
    },
    {
      "cell_type": "code",
      "source": [
        "import pandas as pd\n",
        "\n",
        "def tabla(*args):\n",
        "  for i in args:\n",
        "    zip(*args)\n",
        "    df = pd.DataFrame(args)\n",
        "    #df = df.T\n",
        "    #df.columns = [\"M\",\"N\",\"X\"]\n",
        "  return df"
      ],
      "metadata": {
        "id": "NQHJoqtS3WC5"
      },
      "execution_count": null,
      "outputs": []
    },
    {
      "cell_type": "code",
      "source": [
        "tabla(lista_M,lista_N,lista_X)"
      ],
      "metadata": {
        "id": "y6KmVegV4Jvv"
      },
      "execution_count": null,
      "outputs": []
    },
    {
      "cell_type": "markdown",
      "source": [
        "## 2.4 Múltiples Salidas"
      ],
      "metadata": {
        "id": "wZtDizsjPPD0"
      }
    },
    {
      "cell_type": "code",
      "source": [
        "# Multiples salidas\n",
        "def cuadradoycubo(n):\n",
        "\tcuadrado = n ** 2\n",
        "\tcubo = n ** 3\n",
        "\treturn cuadrado, cubo\n",
        "\t#return [cuadrado,cubo]"
      ],
      "metadata": {
        "id": "VkoyhxTD5JmJ"
      },
      "execution_count": null,
      "outputs": []
    },
    {
      "cell_type": "code",
      "source": [
        "cuadradoycubo(5)"
      ],
      "metadata": {
        "id": "xaxsozLe5Ouq"
      },
      "execution_count": null,
      "outputs": []
    },
    {
      "cell_type": "code",
      "source": [
        "type(cuadradoycubo(5))"
      ],
      "metadata": {
        "id": "CbglOt0b5sZJ"
      },
      "execution_count": null,
      "outputs": []
    },
    {
      "cell_type": "code",
      "source": [
        "c2, c3 = cuadradoycubo(5)\n",
        "print(c2)\n",
        "print(c3)"
      ],
      "metadata": {
        "id": "LFaQEtd55Xoi"
      },
      "execution_count": null,
      "outputs": []
    },
    {
      "cell_type": "code",
      "source": [
        "# Salida en lista\n",
        "def cuadradoycubo_lista(n):\n",
        "\tcuadrado = n ** 2\n",
        "\tcubo = n ** 3\n",
        "\treturn [cuadrado,cubo]"
      ],
      "metadata": {
        "id": "qWsJ30CJ51vP"
      },
      "execution_count": null,
      "outputs": []
    },
    {
      "cell_type": "code",
      "source": [
        "cuadradoycubo_lista(3)"
      ],
      "metadata": {
        "id": "aKKsdHAf5XfU"
      },
      "execution_count": null,
      "outputs": []
    },
    {
      "cell_type": "code",
      "source": [
        "type(cuadradoycubo_lista(3))"
      ],
      "metadata": {
        "id": "p4Ng5rW66QC0"
      },
      "execution_count": null,
      "outputs": []
    },
    {
      "cell_type": "code",
      "source": [
        "elemento1, elemento2 = cuadradoycubo_lista(3)"
      ],
      "metadata": {
        "id": "aVjXBwzP6F01"
      },
      "execution_count": null,
      "outputs": []
    },
    {
      "cell_type": "code",
      "source": [
        "print(elemento1)\n",
        "print(elemento2)"
      ],
      "metadata": {
        "id": "St55C6MP5cX-"
      },
      "execution_count": null,
      "outputs": []
    },
    {
      "cell_type": "markdown",
      "source": [
        "¿Se pueden hacer operaciones aritméticas?"
      ],
      "metadata": {
        "id": "l4JyZZqV7GmW"
      }
    },
    {
      "cell_type": "code",
      "source": [
        "calculo_lista = cuadradoycubo_lista(3)\n",
        "\n",
        "print(\"Multiplicación por 2 a una lista: \", calculo_lista*2)"
      ],
      "metadata": {
        "id": "_mUHgDHi6cpY"
      },
      "execution_count": null,
      "outputs": []
    },
    {
      "cell_type": "markdown",
      "source": [
        "Para una operacion aritmética recorrer la lista o usar arreglos. Se verá con detalle en el siguiente cuaderno de código."
      ],
      "metadata": {
        "id": "DcC7lJYp6aKa"
      }
    },
    {
      "cell_type": "markdown",
      "source": [
        "# SCRIPTS"
      ],
      "metadata": {
        "id": "N4StEWirmNI8"
      }
    },
    {
      "cell_type": "markdown",
      "source": [
        "Un script Python es un archivo que contiene código Python."
      ],
      "metadata": {
        "id": "5C2byXID2bPB"
      }
    },
    {
      "cell_type": "code",
      "source": [
        "# Si creamos un programa que se llama modulo2D.py que calcula el tamaño de un vector bidimensional\n",
        "\n",
        "%%writefile modulo2D.py\n",
        "import math\n",
        "x=float(input(\"Ingrese coordenada x: \"))\n",
        "y=float(input(\"Ingrese coordenada y: \"))\n",
        "magnitud = math.sqrt(x**2 + y**2)\n",
        "print(magnitud)"
      ],
      "metadata": {
        "id": "kCszni0x81EW"
      },
      "execution_count": null,
      "outputs": []
    },
    {
      "cell_type": "markdown",
      "source": [
        "Ejecutamos el script llamando a python y al archivo"
      ],
      "metadata": {
        "id": "qqsHwz7pTp4H"
      }
    },
    {
      "cell_type": "code",
      "source": [
        "!python modulo2D.py"
      ],
      "metadata": {
        "id": "H7qo-6AWFbLH"
      },
      "execution_count": null,
      "outputs": []
    },
    {
      "cell_type": "markdown",
      "source": [
        "O importando la librería como vemos a continuación"
      ],
      "metadata": {
        "id": "tyCqJSifT6RM"
      }
    },
    {
      "cell_type": "markdown",
      "source": [
        "# LIBRERÍA"
      ],
      "metadata": {
        "id": "DcPW11D0PoR_"
      }
    },
    {
      "cell_type": "markdown",
      "source": [
        "## 3.1 Elaboración"
      ],
      "metadata": {
        "id": "c21ARR9395Gi"
      }
    },
    {
      "cell_type": "markdown",
      "source": [
        "Podemos organizar los scripts como librerías y a continuación importarlos para su uso."
      ],
      "metadata": {
        "id": "-MLjVs4oQQBO"
      }
    },
    {
      "cell_type": "code",
      "source": [
        "%%writefile milibreria.py\n",
        "def juntar(entrada1, entrada2):\n",
        "  return [a for a in entrada1 if a in entrada2] + [a for a in entrada1 if a not in entrada2] + [a for a in entrada2 if a not in entrada1]\n",
        "\n",
        "def coincidencias(entrada1, entrada2):\n",
        "  return [a for a in entrada1 if a in entrada2]"
      ],
      "metadata": {
        "id": "WcHUaUziZmfy"
      },
      "execution_count": null,
      "outputs": []
    },
    {
      "cell_type": "markdown",
      "source": [
        "### Importando librerías"
      ],
      "metadata": {
        "id": "_OSewUfQUIDR"
      }
    },
    {
      "cell_type": "markdown",
      "source": [
        "¿Por qué el siguiente comando da error?"
      ],
      "metadata": {
        "id": "q35t2kBz1V9R"
      }
    },
    {
      "cell_type": "code",
      "source": [
        "juntar(lista_M,lista_N)"
      ],
      "metadata": {
        "id": "qW1oR_Zj1QSI"
      },
      "execution_count": null,
      "outputs": []
    },
    {
      "cell_type": "markdown",
      "source": [
        "¿Por qué ahora no da error?"
      ],
      "metadata": {
        "id": "vYimT0Xa1ZqA"
      }
    },
    {
      "cell_type": "code",
      "source": [
        "#import milibreria as mili"
      ],
      "metadata": {
        "id": "uM75irLW1QPL"
      },
      "execution_count": null,
      "outputs": []
    },
    {
      "cell_type": "code",
      "source": [
        "mili.juntar(lista_M,lista_N)"
      ],
      "metadata": {
        "id": "TtBrBj-j1QMW"
      },
      "execution_count": null,
      "outputs": []
    },
    {
      "cell_type": "markdown",
      "source": [
        "## 3.2 Librerías que emplearemos en el curso"
      ],
      "metadata": {
        "id": "7DIci9GE1nAj"
      }
    },
    {
      "cell_type": "code",
      "source": [
        "import numpy as np\n",
        "import matplotlib.pyplot as plt\n",
        "import pandas as pd\n",
        "import seaborn as sns"
      ],
      "metadata": {
        "id": "j3Xu1GV5Nf7u"
      },
      "execution_count": null,
      "outputs": []
    },
    {
      "cell_type": "markdown",
      "source": [
        "Veamos un ejemplo breve empleando información de página web usando estas librerías"
      ],
      "metadata": {
        "id": "q96PAOmx-Nkw"
      }
    },
    {
      "cell_type": "markdown",
      "source": [
        "https://es.wikipedia.org/wiki/Clasificaci%C3%B3n_acad%C3%A9mica_de_universidades_del_Per%C3%BA"
      ],
      "metadata": {
        "id": "xmvyVrOPADbV"
      }
    },
    {
      "cell_type": "code",
      "source": [
        "url = \"https://es.wikipedia.org/wiki/Clasificaci%C3%B3n_acad%C3%A9mica_de_universidades_del_Per%C3%BA\""
      ],
      "metadata": {
        "id": "jzht982b-vaB"
      },
      "execution_count": null,
      "outputs": []
    },
    {
      "cell_type": "markdown",
      "source": [
        "### Pandas"
      ],
      "metadata": {
        "id": "j5w9QAOXQbRM"
      }
    },
    {
      "cell_type": "code",
      "source": [
        "df = pd.read_html(url)\n",
        "df[3]"
      ],
      "metadata": {
        "id": "1STG0jNUNnEP"
      },
      "execution_count": null,
      "outputs": []
    },
    {
      "cell_type": "code",
      "source": [
        "misdatos = df[1]\n",
        "misdatos"
      ],
      "metadata": {
        "id": "7nAokvVHNm9v"
      },
      "execution_count": null,
      "outputs": []
    },
    {
      "cell_type": "markdown",
      "source": [
        "### Matplotlib"
      ],
      "metadata": {
        "id": "iQLEaXChQeg0"
      }
    },
    {
      "cell_type": "code",
      "source": [
        "eje_x = misdatos[\"Universidad\"]\n",
        "eje_y = misdatos['2023[3]\\u200b']\n",
        "\n",
        "plt.bar(eje_x,eje_y)\n",
        "#plt.gca().invert_yaxis()\n",
        "plt.xticks(rotation=90)\n",
        "plt.show()"
      ],
      "metadata": {
        "id": "TfvPHSsiNm7C"
      },
      "execution_count": null,
      "outputs": []
    },
    {
      "cell_type": "code",
      "source": [
        "misdatos['Productividad_relativa'] = 11-misdatos['2023[3]\\u200b']   #.apply(lambda x: x if x == 1 else x)\n",
        "misdatos"
      ],
      "metadata": {
        "id": "YWI0uOiaLSMT"
      },
      "execution_count": null,
      "outputs": []
    },
    {
      "cell_type": "code",
      "source": [
        "misdatos = misdatos.drop(['2023[3]\\u200b'], axis=1)\n",
        "misdatos"
      ],
      "metadata": {
        "id": "v9oMLeJfMTRi"
      },
      "execution_count": null,
      "outputs": []
    },
    {
      "cell_type": "markdown",
      "source": [
        "### Seaborn"
      ],
      "metadata": {
        "id": "Tr5zJT8YQqvt"
      }
    },
    {
      "cell_type": "code",
      "source": [
        "import matplotlib.pyplot as plt\n",
        "sns.barplot(x='Universidad', y='Productividad_relativa', data=misdatos)\n",
        "plt.xticks(rotation=90)\n",
        "plt.show()"
      ],
      "metadata": {
        "id": "xGxRF6BTHesP"
      },
      "execution_count": null,
      "outputs": []
    },
    {
      "cell_type": "markdown",
      "source": [
        "### Numpy"
      ],
      "metadata": {
        "id": "Rz0LjzgQQ_v6"
      }
    },
    {
      "cell_type": "code",
      "source": [
        "misdatos[\"Proyección\"] = np.where(misdatos['Productividad_relativa']>5, \"Habilitado\", \"No habilitado\")\n",
        "misdatos"
      ],
      "metadata": {
        "id": "ExFMbSnTQw7j"
      },
      "execution_count": null,
      "outputs": []
    },
    {
      "cell_type": "code",
      "source": [
        "import matplotlib.pyplot as plt\n",
        "sns.barplot(x='Universidad', y='Productividad_relativa', data=misdatos,hue=\"Proyección\")\n",
        "plt.xticks(rotation=90)\n",
        "plt.show()"
      ],
      "metadata": {
        "id": "EjcXdwQ5RljU"
      },
      "execution_count": null,
      "outputs": []
    },
    {
      "cell_type": "markdown",
      "source": [
        "Fin"
      ],
      "metadata": {
        "id": "ve_9_YxROO_4"
      }
    },
    {
      "cell_type": "code",
      "source": [
        "# Hasta el momento solo hemos usado CPU, para probar modelos de generación de texto\n",
        "# en cuadernos posteriores emplearemos GPU\n",
        "import torch\n",
        "\"GPU 🔥\" if torch.cuda.is_available() else \"CPU 🥶\""
      ],
      "metadata": {
        "id": "re3EAOUUKwL1"
      },
      "execution_count": null,
      "outputs": []
    }
  ]
}