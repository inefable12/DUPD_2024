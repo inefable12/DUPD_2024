{
  "nbformat": 4,
  "nbformat_minor": 0,
  "metadata": {
    "colab": {
      "provenance": [],
      "authorship_tag": "ABX9TyMo8kRP8FxtX2xH+e9aE0PL",
      "include_colab_link": true
    },
    "kernelspec": {
      "name": "python3",
      "display_name": "Python 3"
    },
    "language_info": {
      "name": "python"
    }
  },
  "cells": [
    {
      "cell_type": "markdown",
      "metadata": {
        "id": "view-in-github",
        "colab_type": "text"
      },
      "source": [
        "<a href=\"https://colab.research.google.com/github/inefable12/DUPD_2024/blob/main/Actividad_resuelta_sesion4.ipynb\" target=\"_parent\"><img src=\"https://colab.research.google.com/assets/colab-badge.svg\" alt=\"Open In Colab\"/></a>"
      ]
    },
    {
      "cell_type": "markdown",
      "source": [
        "# Balance1"
      ],
      "metadata": {
        "id": "o0ZRtOjONmCc"
      }
    },
    {
      "cell_type": "code",
      "execution_count": 1,
      "metadata": {
        "colab": {
          "base_uri": "https://localhost:8080/"
        },
        "id": "ZNqObQlDKYHX",
        "outputId": "8cd32b07-8e47-4c6d-fa9e-caec87467526"
      },
      "outputs": [
        {
          "output_type": "stream",
          "name": "stdout",
          "text": [
            "Cloning into 'balance_RXN_quimica'...\n",
            "remote: Enumerating objects: 3, done.\u001b[K\n",
            "remote: Counting objects: 100% (3/3), done.\u001b[K\n",
            "remote: Compressing objects: 100% (2/2), done.\u001b[K\n",
            "remote: Total 3 (delta 0), reused 0 (delta 0), pack-reused 0 (from 0)\u001b[K\n",
            "Receiving objects: 100% (3/3), done.\n"
          ]
        }
      ],
      "source": [
        "!git clone https://github.com/inefable12/balance_RXN_quimica.git"
      ]
    },
    {
      "cell_type": "code",
      "source": [
        "!cat /content/balance_RXN_quimica/balance.py"
      ],
      "metadata": {
        "colab": {
          "base_uri": "https://localhost:8080/"
        },
        "id": "sWMcE3NqMFVG",
        "outputId": "0ccbee8b-cba8-4f9b-ff14-a20b2831187f"
      },
      "execution_count": 2,
      "outputs": [
        {
          "output_type": "stream",
          "name": "stdout",
          "text": [
            "#Obtenido de https://medium.com/swlh/balancing-chemical-equations-with-python-837518c9075b\r\n",
            "import re\r\n",
            "from sympy import Matrix, lcm\r\n",
            "elementList=[]\r\n",
            "elementMatrix=[]\r\n",
            "print(\"please input your reactants, this is case sensitive\")\r\n",
            "print(\"your input should look like: H2O+Ag3(Fe3O)4\")\r\n",
            "reactants=input(\"Reactants: \")\r\n",
            "print(\"please input your products, this is case sensitive\")\r\n",
            "products=input(\"Products: \")\r\n",
            "reactants=reactants.replace(' ', '').split(\"+\")\r\n",
            "products=products.replace(' ', '').split(\"+\")\r\n",
            "def addToMatrix(element, index, count, side):\r\n",
            "    if(index == len(elementMatrix)):\r\n",
            "       elementMatrix.append([])\r\n",
            "       for x in elementList:\r\n",
            "            elementMatrix[index].append(0)\r\n",
            "    if(element not in elementList):\r\n",
            "        elementList.append(element)\r\n",
            "        for i in range(len(elementMatrix)):\r\n",
            "            elementMatrix[i].append(0)\r\n",
            "    column=elementList.index(element)\r\n",
            "    elementMatrix[index][column]+=count*side\r\n",
            "    \r\n",
            "def findElements(segment,index, multiplier, side):\r\n",
            "    elementsAndNumbers=re.split('([A-Z][a-z]?)',segment)\r\n",
            "    i=0\r\n",
            "    while(i<len(elementsAndNumbers)-1):#last element always blank\r\n",
            "          i+=1\r\n",
            "          if(len(elementsAndNumbers[i])>0):\r\n",
            "            if(elementsAndNumbers[i+1].isdigit()):\r\n",
            "                count=int(elementsAndNumbers[i+1])*multiplier\r\n",
            "                addToMatrix(elementsAndNumbers[i], index, count, side)\r\n",
            "                i+=1\r\n",
            "            else:\r\n",
            "                addToMatrix(elementsAndNumbers[i], index, multiplier, side)        \r\n",
            "    \r\n",
            "def compoundDecipher(compound, index, side):\r\n",
            "    segments=re.split('(\\([A-Za-z0-9]*\\)[0-9]*)',compound)    \r\n",
            "    for segment in segments:\r\n",
            "        if segment.startswith(\"(\"):\r\n",
            "            segment=re.split('\\)([0-9]*)',segment)\r\n",
            "            multiplier=int(segment[1])\r\n",
            "            segment=segment[0][1:]\r\n",
            "        else:\r\n",
            "            multiplier=1\r\n",
            "        findElements(segment, index, multiplier, side)\r\n",
            "            \r\n",
            "for i in range(len(reactants)):\r\n",
            "    compoundDecipher(reactants[i],i,1)\r\n",
            "for i in range(len(products)):\r\n",
            "    compoundDecipher(products[i],i+len(reactants),-1)\r\n",
            "elementMatrix = Matrix(elementMatrix)\r\n",
            "elementMatrix = elementMatrix.transpose()\r\n",
            "solution=elementMatrix.nullspace()[0]\r\n",
            "multiple = lcm([val.q for val in solution])\r\n",
            "solution = multiple*solution\r\n",
            "coEffi=solution.tolist()\r\n",
            "output=\"\"\r\n",
            "for i in range(len(reactants)):\r\n",
            "    output+=str(coEffi[i][0])+reactants[i]\r\n",
            "    if i<len(reactants)-1:\r\n",
            "       output+=\" + \"\r\n",
            "output+=\" -> \"\r\n",
            "for i in range(len(products)):\r\n",
            "   output+=str(coEffi[i+len(reactants)][0])+products[i]\r\n",
            "   if i<len(products)-1:\r\n",
            "       output+=\" + \"\r\n",
            "print(output)"
          ]
        }
      ]
    },
    {
      "cell_type": "code",
      "source": [
        "!python /content/balance_RXN_quimica/balance.py"
      ],
      "metadata": {
        "colab": {
          "base_uri": "https://localhost:8080/"
        },
        "id": "j8uKNJw9MOiR",
        "outputId": "715edfff-a993-4eb0-a87c-c1d9339c2045"
      },
      "execution_count": 7,
      "outputs": [
        {
          "output_type": "stream",
          "name": "stdout",
          "text": [
            "please input your reactants, this is case sensitive\n",
            "your input should look like: H2O+Ag3(Fe3O)4\n",
            "Reactants: C3H8 + O2\n",
            "please input your products, this is case sensitive\n",
            "Products: CO2 + H2O\n",
            "1C3H8 + 5O2 -> 3CO2 + 4H2O\n"
          ]
        }
      ]
    },
    {
      "cell_type": "markdown",
      "source": [
        "# Balance2"
      ],
      "metadata": {
        "id": "3OknPaBuNRvh"
      }
    },
    {
      "cell_type": "code",
      "source": [
        "!git clone https://github.com/inefable12/balanceo_rxn_combustion_espanol.git"
      ],
      "metadata": {
        "colab": {
          "base_uri": "https://localhost:8080/"
        },
        "id": "PkkG86H6MSCn",
        "outputId": "da70d79f-1d4b-475e-965e-c67f7aa93c3f"
      },
      "execution_count": 8,
      "outputs": [
        {
          "output_type": "stream",
          "name": "stdout",
          "text": [
            "fatal: destination path 'balanceo_rxn_combustion_espanol' already exists and is not an empty directory.\n"
          ]
        }
      ]
    },
    {
      "cell_type": "code",
      "source": [
        "!python /content/balanceo_rxn_combustion_espanol/balanceo.py"
      ],
      "metadata": {
        "colab": {
          "base_uri": "https://localhost:8080/"
        },
        "id": "peWjnERXNT-u",
        "outputId": "6e257bf5-a474-41e4-c9df-7b2226123f18"
      },
      "execution_count": 9,
      "outputs": [
        {
          "output_type": "stream",
          "name": "stdout",
          "text": [
            "REACCIÓN DE COMBUSTIÓN DE\n",
            "--------------------------------\n",
            "    1. Alcanos\n",
            "    2. Alquenos\n",
            "    3. Alquinos\n",
            "--------------------------------\n",
            "Indica el tipo de hidrocarburo: 1, 2 o 3: 1\n",
            " \n",
            "[Combustión de Alcanos]\n",
            "a CₙH₂ₙ₊₂ + b O₂ = c CO₂ + d H₂O\n",
            "Indica el número de carbonos en el alcano: 3\n",
            " \n",
            "---ECUACIÓN BALANCEADA---\n",
            "C₃H₈ + 5.0 O₂ = 3 CO₂ + 4 H₂O\n"
          ]
        }
      ]
    },
    {
      "cell_type": "code",
      "source": [],
      "metadata": {
        "id": "vwkOKIT3NZ0P"
      },
      "execution_count": null,
      "outputs": []
    }
  ]
}